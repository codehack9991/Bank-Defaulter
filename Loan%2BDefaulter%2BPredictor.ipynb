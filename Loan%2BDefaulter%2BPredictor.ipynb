{
 "cells": [
  {
   "cell_type": "code",
   "execution_count": 5,
   "metadata": {},
   "outputs": [
    {
     "name": "stdout",
     "output_type": "stream",
     "text": [
      "Importing packages...\n"
     ]
    }
   ],
   "source": [
    "print('Importing packages...')\n",
    "from datetime import datetime\n",
    "import numpy as np\n",
    "import pandas as pd\n",
    "from sklearn.metrics import accuracy_score\n",
    "from sklearn.metrics import auc\n",
    "from sklearn.metrics import roc_auc_score\n",
    "from sklearn.model_selection import train_test_split"
   ]
  },
  {
   "cell_type": "code",
   "execution_count": 6,
   "metadata": {},
   "outputs": [
    {
     "name": "stdout",
     "output_type": "stream",
     "text": [
      "Importing models from scikit learn module..\n"
     ]
    }
   ],
   "source": [
    "print('Importing models from scikit learn module..')\n",
    "from sklearn.linear_model import LogisticRegression,LinearRegression\n",
    "from sklearn.cross_validation import KFold   \n",
    "from sklearn.ensemble import RandomForestClassifier\n",
    "from sklearn.tree import DecisionTreeClassifier, export_graphviz\n",
    "from sklearn import metrics\n",
    "from sklearn import svm"
   ]
  },
  {
   "cell_type": "code",
   "execution_count": 7,
   "metadata": {},
   "outputs": [
    {
     "name": "stdout",
     "output_type": "stream",
     "text": [
      "Reading data...\n"
     ]
    }
   ],
   "source": [
    "print('Reading data...')\n",
    "dfTrain = pd.read_csv('train.csv')\n",
    "dfTest = pd.read_csv('test.csv')"
   ]
  },
  {
   "cell_type": "code",
   "execution_count": 8,
   "metadata": {},
   "outputs": [
    {
     "data": {
      "text/plain": [
       "LOAN_ID           0\n",
       "AMOUNT            0\n",
       "DUE_MORTGAGE    318\n",
       "VALUE            67\n",
       "REASON          157\n",
       "OCC             173\n",
       "TJOB            309\n",
       "DCL             337\n",
       "CLT             187\n",
       "CL_COUNT        130\n",
       "RATIO           751\n",
       "CONVICTED         0\n",
       "VAR_1             0\n",
       "VAR_2             0\n",
       "VAR_3             0\n",
       "DEFAULTER         0\n",
       "dtype: int64"
      ]
     },
     "execution_count": 8,
     "metadata": {},
     "output_type": "execute_result"
    }
   ],
   "source": [
    " dfTrain.apply(lambda x: sum(x.isnull()),axis=0)  # checking number of null values in each column"
   ]
  },
  {
   "cell_type": "code",
   "execution_count": 9,
   "metadata": {
    "collapsed": true
   },
   "outputs": [],
   "source": [
    "null_columns=dfTrain.columns[dfTrain.isnull().any()]   # finding all rows which do not have null value in ratio\n",
    "df_ratio_notnull=dfTrain[dfTrain[\"RATIO\"].notnull()][null_columns]"
   ]
  },
  {
   "cell_type": "code",
   "execution_count": 10,
   "metadata": {
    "scrolled": true
   },
   "outputs": [
    {
     "data": {
      "text/html": [
       "<div>\n",
       "<style>\n",
       "    .dataframe thead tr:only-child th {\n",
       "        text-align: right;\n",
       "    }\n",
       "\n",
       "    .dataframe thead th {\n",
       "        text-align: left;\n",
       "    }\n",
       "\n",
       "    .dataframe tbody tr th {\n",
       "        vertical-align: top;\n",
       "    }\n",
       "</style>\n",
       "<table border=\"1\" class=\"dataframe\">\n",
       "  <thead>\n",
       "    <tr style=\"text-align: right;\">\n",
       "      <th></th>\n",
       "      <th>DUE_MORTGAGE</th>\n",
       "      <th>VALUE</th>\n",
       "      <th>REASON</th>\n",
       "      <th>OCC</th>\n",
       "      <th>TJOB</th>\n",
       "      <th>DCL</th>\n",
       "      <th>CLT</th>\n",
       "      <th>CL_COUNT</th>\n",
       "      <th>RATIO</th>\n",
       "    </tr>\n",
       "  </thead>\n",
       "  <tbody>\n",
       "    <tr>\n",
       "      <th>1</th>\n",
       "      <td>81747.0</td>\n",
       "      <td>109840.0</td>\n",
       "      <td>1.0</td>\n",
       "      <td>0.0</td>\n",
       "      <td>NaN</td>\n",
       "      <td>0.0</td>\n",
       "      <td>174.786162</td>\n",
       "      <td>24.0</td>\n",
       "      <td>40.067527</td>\n",
       "    </tr>\n",
       "    <tr>\n",
       "      <th>2</th>\n",
       "      <td>94262.0</td>\n",
       "      <td>128414.0</td>\n",
       "      <td>1.0</td>\n",
       "      <td>3.0</td>\n",
       "      <td>4.0</td>\n",
       "      <td>NaN</td>\n",
       "      <td>242.736126</td>\n",
       "      <td>42.0</td>\n",
       "      <td>39.231892</td>\n",
       "    </tr>\n",
       "    <tr>\n",
       "      <th>4</th>\n",
       "      <td>NaN</td>\n",
       "      <td>35523.0</td>\n",
       "      <td>0.0</td>\n",
       "      <td>0.0</td>\n",
       "      <td>21.0</td>\n",
       "      <td>0.0</td>\n",
       "      <td>84.111988</td>\n",
       "      <td>15.0</td>\n",
       "      <td>29.865634</td>\n",
       "    </tr>\n",
       "    <tr>\n",
       "      <th>5</th>\n",
       "      <td>65742.0</td>\n",
       "      <td>86608.0</td>\n",
       "      <td>0.0</td>\n",
       "      <td>0.0</td>\n",
       "      <td>NaN</td>\n",
       "      <td>0.0</td>\n",
       "      <td>289.581891</td>\n",
       "      <td>20.0</td>\n",
       "      <td>28.285563</td>\n",
       "    </tr>\n",
       "    <tr>\n",
       "      <th>6</th>\n",
       "      <td>75253.0</td>\n",
       "      <td>106166.0</td>\n",
       "      <td>1.0</td>\n",
       "      <td>0.0</td>\n",
       "      <td>NaN</td>\n",
       "      <td>0.0</td>\n",
       "      <td>176.339376</td>\n",
       "      <td>24.0</td>\n",
       "      <td>38.266594</td>\n",
       "    </tr>\n",
       "  </tbody>\n",
       "</table>\n",
       "</div>"
      ],
      "text/plain": [
       "   DUE_MORTGAGE     VALUE  REASON  OCC  TJOB  DCL         CLT  CL_COUNT  \\\n",
       "1       81747.0  109840.0     1.0  0.0   NaN  0.0  174.786162      24.0   \n",
       "2       94262.0  128414.0     1.0  3.0   4.0  NaN  242.736126      42.0   \n",
       "4           NaN   35523.0     0.0  0.0  21.0  0.0   84.111988      15.0   \n",
       "5       65742.0   86608.0     0.0  0.0   NaN  0.0  289.581891      20.0   \n",
       "6       75253.0  106166.0     1.0  0.0   NaN  0.0  176.339376      24.0   \n",
       "\n",
       "       RATIO  \n",
       "1  40.067527  \n",
       "2  39.231892  \n",
       "4  29.865634  \n",
       "5  28.285563  \n",
       "6  38.266594  "
      ]
     },
     "execution_count": 10,
     "metadata": {},
     "output_type": "execute_result"
    }
   ],
   "source": [
    "df_ratio_notnull.head()"
   ]
  },
  {
   "cell_type": "code",
   "execution_count": 109,
   "metadata": {},
   "outputs": [
    {
     "name": "stdout",
     "output_type": "stream",
     "text": [
      "Imputation with Median: DUE_MORTGAGE\n",
      "Imputation with Median: VALUE\n",
      "Imputation with Median: TJOB\n",
      "Imputation with Median: DCL\n",
      "Imputation with Median: CLT\n",
      "Imputation with Median: CL_COUNT\n",
      "Imputation with Zero: OCC\n",
      "Imputation with One: REASON\n"
     ]
    }
   ],
   "source": [
    "cols = ['DUE_MORTGAGE','VALUE','TJOB','DCL','CLT','CL_COUNT']   # imputing the data to make up for missing data\n",
    "for col in cols: \n",
    "    print('Imputation with Median: %s' % (col))\n",
    "    df_ratio_notnull[col].fillna(df_ratio_notnull[col].median(), inplace=True)\n",
    "    dfTest[col].fillna(dfTest[col].median(), inplace=True)\n",
    "\n",
    "    cols=['OCC']\n",
    "for col in cols:\n",
    "    print('Imputation with Zero: %s' % (col))\n",
    "    df_ratio_notnull[col].fillna(0, inplace=True)\n",
    "    dfTest[col].fillna(0, inplace=True)\n",
    "    \n",
    "    \n",
    "    cols=['REASON']\n",
    "for col in cols:\n",
    "    print('Imputation with One: %s' % (col))\n",
    "    df_ratio_notnull[col].fillna(1, inplace=True)\n",
    "    dfTest[col].fillna(1, inplace=True)"
   ]
  },
  {
   "cell_type": "code",
   "execution_count": 110,
   "metadata": {},
   "outputs": [
    {
     "data": {
      "text/plain": [
       "LinearRegression(copy_X=True, fit_intercept=True, n_jobs=1, normalize=False)"
      ]
     },
     "execution_count": 110,
     "metadata": {},
     "output_type": "execute_result"
    }
   ],
   "source": [
    "train_target = pd.DataFrame(df_ratio_notnull['RATIO'])   #training a model to learn the values of RATIO\n",
    "train_cols=['DUE_MORTGAGE','VALUE','REASON','OCC','TJOB','DCL','CLT','CL_COUNT']\n",
    "finalTrain=df_ratio_notnull[train_cols];\n",
    "reg=LinearRegression()\n",
    "reg.fit(finalTrain,train_target)\n"
   ]
  },
  {
   "cell_type": "code",
   "execution_count": 111,
   "metadata": {},
   "outputs": [
    {
     "data": {
      "text/html": [
       "<div>\n",
       "<style>\n",
       "    .dataframe thead tr:only-child th {\n",
       "        text-align: right;\n",
       "    }\n",
       "\n",
       "    .dataframe thead th {\n",
       "        text-align: left;\n",
       "    }\n",
       "\n",
       "    .dataframe tbody tr th {\n",
       "        vertical-align: top;\n",
       "    }\n",
       "</style>\n",
       "<table border=\"1\" class=\"dataframe\">\n",
       "  <thead>\n",
       "    <tr style=\"text-align: right;\">\n",
       "      <th></th>\n",
       "      <th>LOAN_ID</th>\n",
       "      <th>AMOUNT</th>\n",
       "      <th>DUE_MORTGAGE</th>\n",
       "      <th>VALUE</th>\n",
       "      <th>REASON</th>\n",
       "      <th>OCC</th>\n",
       "      <th>TJOB</th>\n",
       "      <th>DCL</th>\n",
       "      <th>CLT</th>\n",
       "      <th>CL_COUNT</th>\n",
       "      <th>RATIO</th>\n",
       "      <th>CONVICTED</th>\n",
       "      <th>VAR_1</th>\n",
       "      <th>VAR_2</th>\n",
       "      <th>VAR_3</th>\n",
       "      <th>DEFAULTER</th>\n",
       "    </tr>\n",
       "  </thead>\n",
       "  <tbody>\n",
       "    <tr>\n",
       "      <th>0</th>\n",
       "      <td>3682648</td>\n",
       "      <td>15100</td>\n",
       "      <td>71168.0</td>\n",
       "      <td>97480.0</td>\n",
       "      <td>1.0</td>\n",
       "      <td>0.0</td>\n",
       "      <td>9.0</td>\n",
       "      <td>0.0</td>\n",
       "      <td>119.166667</td>\n",
       "      <td>19.0</td>\n",
       "      <td>NaN</td>\n",
       "      <td>0</td>\n",
       "      <td>0</td>\n",
       "      <td>1</td>\n",
       "      <td>2.0095</td>\n",
       "      <td>1</td>\n",
       "    </tr>\n",
       "    <tr>\n",
       "      <th>1</th>\n",
       "      <td>3682649</td>\n",
       "      <td>21100</td>\n",
       "      <td>81747.0</td>\n",
       "      <td>109840.0</td>\n",
       "      <td>1.0</td>\n",
       "      <td>0.0</td>\n",
       "      <td>NaN</td>\n",
       "      <td>0.0</td>\n",
       "      <td>174.786162</td>\n",
       "      <td>24.0</td>\n",
       "      <td>40.067527</td>\n",
       "      <td>0</td>\n",
       "      <td>0</td>\n",
       "      <td>1</td>\n",
       "      <td>1.2724</td>\n",
       "      <td>0</td>\n",
       "    </tr>\n",
       "    <tr>\n",
       "      <th>2</th>\n",
       "      <td>3682650</td>\n",
       "      <td>15900</td>\n",
       "      <td>94262.0</td>\n",
       "      <td>128414.0</td>\n",
       "      <td>1.0</td>\n",
       "      <td>3.0</td>\n",
       "      <td>4.0</td>\n",
       "      <td>NaN</td>\n",
       "      <td>242.736126</td>\n",
       "      <td>42.0</td>\n",
       "      <td>39.231892</td>\n",
       "      <td>1</td>\n",
       "      <td>0</td>\n",
       "      <td>2</td>\n",
       "      <td>1.4725</td>\n",
       "      <td>0</td>\n",
       "    </tr>\n",
       "    <tr>\n",
       "      <th>3</th>\n",
       "      <td>3682651</td>\n",
       "      <td>12900</td>\n",
       "      <td>110899.0</td>\n",
       "      <td>124480.0</td>\n",
       "      <td>1.0</td>\n",
       "      <td>2.0</td>\n",
       "      <td>7.0</td>\n",
       "      <td>0.0</td>\n",
       "      <td>204.900000</td>\n",
       "      <td>40.0</td>\n",
       "      <td>NaN</td>\n",
       "      <td>0</td>\n",
       "      <td>1</td>\n",
       "      <td>2</td>\n",
       "      <td>1.5701</td>\n",
       "      <td>1</td>\n",
       "    </tr>\n",
       "    <tr>\n",
       "      <th>4</th>\n",
       "      <td>3682652</td>\n",
       "      <td>24600</td>\n",
       "      <td>NaN</td>\n",
       "      <td>35523.0</td>\n",
       "      <td>0.0</td>\n",
       "      <td>0.0</td>\n",
       "      <td>21.0</td>\n",
       "      <td>0.0</td>\n",
       "      <td>84.111988</td>\n",
       "      <td>15.0</td>\n",
       "      <td>29.865634</td>\n",
       "      <td>0</td>\n",
       "      <td>0</td>\n",
       "      <td>1</td>\n",
       "      <td>1.5013</td>\n",
       "      <td>0</td>\n",
       "    </tr>\n",
       "  </tbody>\n",
       "</table>\n",
       "</div>"
      ],
      "text/plain": [
       "   LOAN_ID  AMOUNT  DUE_MORTGAGE     VALUE  REASON  OCC  TJOB  DCL  \\\n",
       "0  3682648   15100       71168.0   97480.0     1.0  0.0   9.0  0.0   \n",
       "1  3682649   21100       81747.0  109840.0     1.0  0.0   NaN  0.0   \n",
       "2  3682650   15900       94262.0  128414.0     1.0  3.0   4.0  NaN   \n",
       "3  3682651   12900      110899.0  124480.0     1.0  2.0   7.0  0.0   \n",
       "4  3682652   24600           NaN   35523.0     0.0  0.0  21.0  0.0   \n",
       "\n",
       "          CLT  CL_COUNT      RATIO  CONVICTED  VAR_1  VAR_2   VAR_3  DEFAULTER  \n",
       "0  119.166667      19.0        NaN          0      0      1  2.0095          1  \n",
       "1  174.786162      24.0  40.067527          0      0      1  1.2724          0  \n",
       "2  242.736126      42.0  39.231892          1      0      2  1.4725          0  \n",
       "3  204.900000      40.0        NaN          0      1      2  1.5701          1  \n",
       "4   84.111988      15.0  29.865634          0      0      1  1.5013          0  "
      ]
     },
     "execution_count": 111,
     "metadata": {},
     "output_type": "execute_result"
    }
   ],
   "source": [
    "dfTrain.head()"
   ]
  },
  {
   "cell_type": "code",
   "execution_count": 112,
   "metadata": {
    "scrolled": true
   },
   "outputs": [
    {
     "data": {
      "text/html": [
       "<div>\n",
       "<style>\n",
       "    .dataframe thead tr:only-child th {\n",
       "        text-align: right;\n",
       "    }\n",
       "\n",
       "    .dataframe thead th {\n",
       "        text-align: left;\n",
       "    }\n",
       "\n",
       "    .dataframe tbody tr th {\n",
       "        vertical-align: top;\n",
       "    }\n",
       "</style>\n",
       "<table border=\"1\" class=\"dataframe\">\n",
       "  <thead>\n",
       "    <tr style=\"text-align: right;\">\n",
       "      <th></th>\n",
       "      <th>LOAN_ID</th>\n",
       "      <th>AMOUNT</th>\n",
       "      <th>DUE_MORTGAGE</th>\n",
       "      <th>VALUE</th>\n",
       "      <th>REASON</th>\n",
       "      <th>OCC</th>\n",
       "      <th>TJOB</th>\n",
       "      <th>DCL</th>\n",
       "      <th>CLT</th>\n",
       "      <th>CL_COUNT</th>\n",
       "      <th>RATIO</th>\n",
       "      <th>CONVICTED</th>\n",
       "      <th>VAR_1</th>\n",
       "      <th>VAR_2</th>\n",
       "      <th>VAR_3</th>\n",
       "      <th>DEFAULTER</th>\n",
       "    </tr>\n",
       "  </thead>\n",
       "  <tbody>\n",
       "    <tr>\n",
       "      <th>count</th>\n",
       "      <td>3.576000e+03</td>\n",
       "      <td>3576.000000</td>\n",
       "      <td>3258.000000</td>\n",
       "      <td>3509.000000</td>\n",
       "      <td>3419.000000</td>\n",
       "      <td>3403.000000</td>\n",
       "      <td>3267.000000</td>\n",
       "      <td>3239.000000</td>\n",
       "      <td>3389.000000</td>\n",
       "      <td>3446.000000</td>\n",
       "      <td>2825.000000</td>\n",
       "      <td>3576.000000</td>\n",
       "      <td>3576.000000</td>\n",
       "      <td>3576.000000</td>\n",
       "      <td>3576.000000</td>\n",
       "      <td>3576.000000</td>\n",
       "    </tr>\n",
       "    <tr>\n",
       "      <th>mean</th>\n",
       "      <td>3.684436e+06</td>\n",
       "      <td>18593.596197</td>\n",
       "      <td>74028.507532</td>\n",
       "      <td>101706.385571</td>\n",
       "      <td>0.690553</td>\n",
       "      <td>1.666765</td>\n",
       "      <td>8.895301</td>\n",
       "      <td>0.428836</td>\n",
       "      <td>181.339737</td>\n",
       "      <td>21.161056</td>\n",
       "      <td>33.650308</td>\n",
       "      <td>0.171141</td>\n",
       "      <td>0.218400</td>\n",
       "      <td>1.095358</td>\n",
       "      <td>1.658922</td>\n",
       "      <td>0.197707</td>\n",
       "    </tr>\n",
       "    <tr>\n",
       "      <th>std</th>\n",
       "      <td>1.032447e+03</td>\n",
       "      <td>10901.127719</td>\n",
       "      <td>44716.291776</td>\n",
       "      <td>55426.276328</td>\n",
       "      <td>0.462333</td>\n",
       "      <td>1.747940</td>\n",
       "      <td>7.591961</td>\n",
       "      <td>1.108302</td>\n",
       "      <td>83.487218</td>\n",
       "      <td>10.150044</td>\n",
       "      <td>7.873496</td>\n",
       "      <td>0.376685</td>\n",
       "      <td>0.768329</td>\n",
       "      <td>1.719366</td>\n",
       "      <td>0.662931</td>\n",
       "      <td>0.398326</td>\n",
       "    </tr>\n",
       "    <tr>\n",
       "      <th>min</th>\n",
       "      <td>3.682648e+06</td>\n",
       "      <td>1200.000000</td>\n",
       "      <td>1962.000000</td>\n",
       "      <td>7980.000000</td>\n",
       "      <td>0.000000</td>\n",
       "      <td>0.000000</td>\n",
       "      <td>0.000000</td>\n",
       "      <td>0.000000</td>\n",
       "      <td>1.000000</td>\n",
       "      <td>0.000000</td>\n",
       "      <td>0.730295</td>\n",
       "      <td>0.000000</td>\n",
       "      <td>0.000000</td>\n",
       "      <td>0.000000</td>\n",
       "      <td>0.045274</td>\n",
       "      <td>0.000000</td>\n",
       "    </tr>\n",
       "    <tr>\n",
       "      <th>25%</th>\n",
       "      <td>3.683542e+06</td>\n",
       "      <td>11200.000000</td>\n",
       "      <td>46546.750000</td>\n",
       "      <td>66395.000000</td>\n",
       "      <td>0.000000</td>\n",
       "      <td>0.000000</td>\n",
       "      <td>3.000000</td>\n",
       "      <td>0.000000</td>\n",
       "      <td>117.437908</td>\n",
       "      <td>14.000000</td>\n",
       "      <td>29.161698</td>\n",
       "      <td>0.000000</td>\n",
       "      <td>0.000000</td>\n",
       "      <td>0.000000</td>\n",
       "      <td>1.184400</td>\n",
       "      <td>0.000000</td>\n",
       "    </tr>\n",
       "    <tr>\n",
       "      <th>50%</th>\n",
       "      <td>3.684436e+06</td>\n",
       "      <td>16400.000000</td>\n",
       "      <td>65849.500000</td>\n",
       "      <td>89569.000000</td>\n",
       "      <td>1.000000</td>\n",
       "      <td>1.000000</td>\n",
       "      <td>7.000000</td>\n",
       "      <td>0.000000</td>\n",
       "      <td>174.500000</td>\n",
       "      <td>20.000000</td>\n",
       "      <td>34.644236</td>\n",
       "      <td>0.000000</td>\n",
       "      <td>0.000000</td>\n",
       "      <td>0.000000</td>\n",
       "      <td>1.702700</td>\n",
       "      <td>0.000000</td>\n",
       "    </tr>\n",
       "    <tr>\n",
       "      <th>75%</th>\n",
       "      <td>3.685329e+06</td>\n",
       "      <td>23200.000000</td>\n",
       "      <td>91288.000000</td>\n",
       "      <td>120159.000000</td>\n",
       "      <td>1.000000</td>\n",
       "      <td>4.000000</td>\n",
       "      <td>13.000000</td>\n",
       "      <td>0.000000</td>\n",
       "      <td>233.333333</td>\n",
       "      <td>26.000000</td>\n",
       "      <td>38.958919</td>\n",
       "      <td>0.000000</td>\n",
       "      <td>0.000000</td>\n",
       "      <td>2.000000</td>\n",
       "      <td>2.188450</td>\n",
       "      <td>0.000000</td>\n",
       "    </tr>\n",
       "    <tr>\n",
       "      <th>max</th>\n",
       "      <td>3.686223e+06</td>\n",
       "      <td>89900.000000</td>\n",
       "      <td>399449.000000</td>\n",
       "      <td>849980.000000</td>\n",
       "      <td>1.000000</td>\n",
       "      <td>5.000000</td>\n",
       "      <td>41.000000</td>\n",
       "      <td>15.000000</td>\n",
       "      <td>640.058172</td>\n",
       "      <td>71.000000</td>\n",
       "      <td>143.959605</td>\n",
       "      <td>1.000000</td>\n",
       "      <td>10.000000</td>\n",
       "      <td>17.000000</td>\n",
       "      <td>2.779000</td>\n",
       "      <td>1.000000</td>\n",
       "    </tr>\n",
       "  </tbody>\n",
       "</table>\n",
       "</div>"
      ],
      "text/plain": [
       "            LOAN_ID        AMOUNT   DUE_MORTGAGE          VALUE       REASON  \\\n",
       "count  3.576000e+03   3576.000000    3258.000000    3509.000000  3419.000000   \n",
       "mean   3.684436e+06  18593.596197   74028.507532  101706.385571     0.690553   \n",
       "std    1.032447e+03  10901.127719   44716.291776   55426.276328     0.462333   \n",
       "min    3.682648e+06   1200.000000    1962.000000    7980.000000     0.000000   \n",
       "25%    3.683542e+06  11200.000000   46546.750000   66395.000000     0.000000   \n",
       "50%    3.684436e+06  16400.000000   65849.500000   89569.000000     1.000000   \n",
       "75%    3.685329e+06  23200.000000   91288.000000  120159.000000     1.000000   \n",
       "max    3.686223e+06  89900.000000  399449.000000  849980.000000     1.000000   \n",
       "\n",
       "               OCC         TJOB          DCL          CLT     CL_COUNT  \\\n",
       "count  3403.000000  3267.000000  3239.000000  3389.000000  3446.000000   \n",
       "mean      1.666765     8.895301     0.428836   181.339737    21.161056   \n",
       "std       1.747940     7.591961     1.108302    83.487218    10.150044   \n",
       "min       0.000000     0.000000     0.000000     1.000000     0.000000   \n",
       "25%       0.000000     3.000000     0.000000   117.437908    14.000000   \n",
       "50%       1.000000     7.000000     0.000000   174.500000    20.000000   \n",
       "75%       4.000000    13.000000     0.000000   233.333333    26.000000   \n",
       "max       5.000000    41.000000    15.000000   640.058172    71.000000   \n",
       "\n",
       "             RATIO    CONVICTED        VAR_1        VAR_2        VAR_3  \\\n",
       "count  2825.000000  3576.000000  3576.000000  3576.000000  3576.000000   \n",
       "mean     33.650308     0.171141     0.218400     1.095358     1.658922   \n",
       "std       7.873496     0.376685     0.768329     1.719366     0.662931   \n",
       "min       0.730295     0.000000     0.000000     0.000000     0.045274   \n",
       "25%      29.161698     0.000000     0.000000     0.000000     1.184400   \n",
       "50%      34.644236     0.000000     0.000000     0.000000     1.702700   \n",
       "75%      38.958919     0.000000     0.000000     2.000000     2.188450   \n",
       "max     143.959605     1.000000    10.000000    17.000000     2.779000   \n",
       "\n",
       "         DEFAULTER  \n",
       "count  3576.000000  \n",
       "mean      0.197707  \n",
       "std       0.398326  \n",
       "min       0.000000  \n",
       "25%       0.000000  \n",
       "50%       0.000000  \n",
       "75%       0.000000  \n",
       "max       1.000000  "
      ]
     },
     "execution_count": 112,
     "metadata": {},
     "output_type": "execute_result"
    }
   ],
   "source": [
    "dfTrain.describe()"
   ]
  },
  {
   "cell_type": "code",
   "execution_count": 113,
   "metadata": {},
   "outputs": [
    {
     "data": {
      "text/plain": [
       "1.0    2361\n",
       "0.0    1058\n",
       "Name: REASON, dtype: int64"
      ]
     },
     "execution_count": 113,
     "metadata": {},
     "output_type": "execute_result"
    }
   ],
   "source": [
    "dfTrain['REASON'].value_counts()"
   ]
  },
  {
   "cell_type": "code",
   "execution_count": 170,
   "metadata": {},
   "outputs": [
    {
     "data": {
      "text/plain": [
       "0    2869\n",
       "1     707\n",
       "Name: DEFAULTER, dtype: int64"
      ]
     },
     "execution_count": 170,
     "metadata": {},
     "output_type": "execute_result"
    }
   ],
   "source": [
    "dfTrain['DEFAULTER'].value_counts()"
   ]
  },
  {
   "cell_type": "code",
   "execution_count": 114,
   "metadata": {},
   "outputs": [
    {
     "data": {
      "text/plain": [
       "0.0    1433\n",
       "4.0     756\n",
       "1.0     574\n",
       "3.0     470\n",
       "5.0     108\n",
       "2.0      62\n",
       "Name: OCC, dtype: int64"
      ]
     },
     "execution_count": 114,
     "metadata": {},
     "output_type": "execute_result"
    }
   ],
   "source": [
    "dfTrain['OCC'].value_counts()"
   ]
  },
  {
   "cell_type": "code",
   "execution_count": 13,
   "metadata": {},
   "outputs": [
    {
     "name": "stdout",
     "output_type": "stream",
     "text": [
      "Imputation with Median: AMOUNT\n",
      "Imputation with Median: DUE_MORTGAGE\n",
      "Imputation with Median: VALUE\n",
      "Imputation with Median: TJOB\n",
      "Imputation with Median: DCL\n",
      "Imputation with Median: CLT\n",
      "Imputation with Median: CL_COUNT\n",
      "Imputation with Zero: OCC\n",
      "Imputation with One: REASON\n"
     ]
    }
   ],
   "source": [
    "cols = ['AMOUNT','DUE_MORTGAGE','VALUE','TJOB','DCL','CLT','CL_COUNT']\n",
    "for col in cols:\n",
    "    print('Imputation with Median: %s' % (col))\n",
    "    dfTrain[col].fillna(dfTrain[col].median(), inplace=True)\n",
    "    dfTest[col].fillna(dfTest[col].median(), inplace=True)\n",
    "\n",
    "    cols=['OCC']\n",
    "for col in cols:\n",
    "    print('Imputation with Zero: %s' % (col))\n",
    "    dfTrain[col].fillna(0, inplace=True)\n",
    "    dfTest[col].fillna(0, inplace=True)\n",
    "    \n",
    "    \n",
    "    cols=['REASON']\n",
    "for col in cols:\n",
    "    print('Imputation with One: %s' % (col))\n",
    "    dfTrain[col].fillna(1, inplace=True)\n",
    "    dfTest[col].fillna(1, inplace=True)"
   ]
  },
  {
   "cell_type": "code",
   "execution_count": 117,
   "metadata": {
    "collapsed": true
   },
   "outputs": [],
   "source": [
    "pred=reg.predict(dfTrain[train_cols])"
   ]
  },
  {
   "cell_type": "code",
   "execution_count": 118,
   "metadata": {
    "collapsed": true
   },
   "outputs": [],
   "source": [
    "dfTrain['RATIO']=pred # putting the predicted valus of ratio in the dataframe"
   ]
  },
  {
   "cell_type": "code",
   "execution_count": 119,
   "metadata": {
    "collapsed": true
   },
   "outputs": [],
   "source": [
    "dfTrain['log_amount'] = np.log(dfTrain['AMOUNT'])  # adding extra columns by performing log transformation\n",
    "dfTrain['log_Due_Mortgage'] = np.log(dfTrain['DUE_MORTGAGE'])\n",
    "dfTrain['log_value'] = np.log(dfTrain['VALUE'])"
   ]
  },
  {
   "cell_type": "code",
   "execution_count": 120,
   "metadata": {
    "collapsed": true
   },
   "outputs": [],
   "source": [
    "train_target = pd.DataFrame(dfTrain['DEFAULTER'])"
   ]
  },
  {
   "cell_type": "code",
   "execution_count": 121,
   "metadata": {
    "collapsed": true
   },
   "outputs": [],
   "source": [
    "train_cols=['log_amount','log_Due_Mortgage','log_value','REASON','OCC','TJOB','DCL','CLT','CL_COUNT','RATIO','CONVICTED','VAR_1','VAR_2','VAR_3']"
   ]
  },
  {
   "cell_type": "code",
   "execution_count": 122,
   "metadata": {
    "collapsed": true
   },
   "outputs": [],
   "source": [
    "finalTrain=dfTrain[train_cols];"
   ]
  },
  {
   "cell_type": "code",
   "execution_count": 123,
   "metadata": {
    "collapsed": true
   },
   "outputs": [],
   "source": [
    "X_train, X_test, y_train, y_test = train_test_split(np.array(finalTrain), np.array(train_target), test_size=0.30,random_state=59)"
   ]
  },
  {
   "cell_type": "code",
   "execution_count": 124,
   "metadata": {
    "collapsed": true
   },
   "outputs": [],
   "source": [
    "clf = LogisticRegression()  # logistic regression"
   ]
  },
  {
   "cell_type": "code",
   "execution_count": 125,
   "metadata": {},
   "outputs": [
    {
     "name": "stderr",
     "output_type": "stream",
     "text": [
      "C:\\Users\\hp\\Anaconda3\\lib\\site-packages\\sklearn\\utils\\validation.py:578: DataConversionWarning: A column-vector y was passed when a 1d array was expected. Please change the shape of y to (n_samples, ), for example using ravel().\n",
      "  y = column_or_1d(y, warn=True)\n"
     ]
    },
    {
     "data": {
      "text/plain": [
       "LogisticRegression(C=1.0, class_weight=None, dual=False, fit_intercept=True,\n",
       "          intercept_scaling=1, max_iter=100, multi_class='ovr', n_jobs=1,\n",
       "          penalty='l2', random_state=None, solver='liblinear', tol=0.0001,\n",
       "          verbose=0, warm_start=False)"
      ]
     },
     "execution_count": 125,
     "metadata": {},
     "output_type": "execute_result"
    }
   ],
   "source": [
    "clf.fit(X_train, y_train)"
   ]
  },
  {
   "cell_type": "code",
   "execution_count": 126,
   "metadata": {},
   "outputs": [
    {
     "name": "stdout",
     "output_type": "stream",
     "text": [
      "Accuracy of logistic regression classifier on test set:\n",
      "0.835973904939\n"
     ]
    }
   ],
   "source": [
    "y_pred = clf.predict(X_test)\n",
    "print('Accuracy of logistic regression classifier on test set:')\n",
    "print(clf.score(X_test, y_test))"
   ]
  },
  {
   "cell_type": "code",
   "execution_count": 127,
   "metadata": {},
   "outputs": [
    {
     "data": {
      "text/plain": [
       "StandardScaler(copy=True, with_mean=True, with_std=True)"
      ]
     },
     "execution_count": 127,
     "metadata": {},
     "output_type": "execute_result"
    }
   ],
   "source": [
    "from sklearn.preprocessing import StandardScaler  # scaling the data so that neural network works better\n",
    "scaler = StandardScaler()\n",
    "scaler.fit(X_train)"
   ]
  },
  {
   "cell_type": "code",
   "execution_count": 128,
   "metadata": {
    "collapsed": true
   },
   "outputs": [],
   "source": [
    "X_train = scaler.transform(X_train)\n",
    "X_test = scaler.transform(X_test)"
   ]
  },
  {
   "cell_type": "code",
   "execution_count": 129,
   "metadata": {
    "collapsed": true
   },
   "outputs": [],
   "source": [
    "from sklearn.neural_network import MLPClassifier"
   ]
  },
  {
   "cell_type": "code",
   "execution_count": 130,
   "metadata": {
    "collapsed": true
   },
   "outputs": [],
   "source": [
    "mlp = MLPClassifier(hidden_layer_sizes=(100,100,50,30,10),solver='adam',max_iter=1000,verbose=True)  # neural network"
   ]
  },
  {
   "cell_type": "code",
   "execution_count": 131,
   "metadata": {
    "scrolled": true
   },
   "outputs": [
    {
     "name": "stderr",
     "output_type": "stream",
     "text": [
      "C:\\Users\\hp\\Anaconda3\\lib\\site-packages\\sklearn\\neural_network\\multilayer_perceptron.py:912: DataConversionWarning: A column-vector y was passed when a 1d array was expected. Please change the shape of y to (n_samples, ), for example using ravel().\n",
      "  y = column_or_1d(y, warn=True)\n"
     ]
    },
    {
     "name": "stdout",
     "output_type": "stream",
     "text": [
      "Iteration 1, loss = 0.55360149\n",
      "Iteration 2, loss = 0.43330239\n",
      "Iteration 3, loss = 0.39032165\n",
      "Iteration 4, loss = 0.37576040\n",
      "Iteration 5, loss = 0.36309049\n",
      "Iteration 6, loss = 0.35084660\n",
      "Iteration 7, loss = 0.34099132\n",
      "Iteration 8, loss = 0.32855016\n",
      "Iteration 9, loss = 0.31372944\n",
      "Iteration 10, loss = 0.30128113\n",
      "Iteration 11, loss = 0.28532252\n",
      "Iteration 12, loss = 0.27213172\n",
      "Iteration 13, loss = 0.25957506\n",
      "Iteration 14, loss = 0.24188795\n",
      "Iteration 15, loss = 0.22840395\n",
      "Iteration 16, loss = 0.21435258\n",
      "Iteration 17, loss = 0.20245274\n",
      "Iteration 18, loss = 0.19014191\n",
      "Iteration 19, loss = 0.17378612\n",
      "Iteration 20, loss = 0.17011668\n",
      "Iteration 21, loss = 0.14927321\n",
      "Iteration 22, loss = 0.13402509\n",
      "Iteration 23, loss = 0.12390630\n",
      "Iteration 24, loss = 0.11099031\n",
      "Iteration 25, loss = 0.10250533\n",
      "Iteration 26, loss = 0.08828110\n",
      "Iteration 27, loss = 0.07892033\n",
      "Iteration 28, loss = 0.07795833\n",
      "Iteration 29, loss = 0.06574483\n",
      "Iteration 30, loss = 0.05823559\n",
      "Iteration 31, loss = 0.06106706\n",
      "Iteration 32, loss = 0.05214362\n",
      "Iteration 33, loss = 0.04897079\n",
      "Iteration 34, loss = 0.05104722\n",
      "Iteration 35, loss = 0.05806292\n",
      "Iteration 36, loss = 0.04800996\n",
      "Iteration 37, loss = 0.03258328\n",
      "Iteration 38, loss = 0.02493896\n",
      "Iteration 39, loss = 0.01985336\n",
      "Iteration 40, loss = 0.01573593\n",
      "Iteration 41, loss = 0.01364511\n",
      "Iteration 42, loss = 0.01257819\n",
      "Iteration 43, loss = 0.01086161\n",
      "Iteration 44, loss = 0.00934180\n",
      "Iteration 45, loss = 0.00872981\n",
      "Iteration 46, loss = 0.01066255\n",
      "Iteration 47, loss = 0.00785132\n",
      "Iteration 48, loss = 0.00615946\n",
      "Iteration 49, loss = 0.00506444\n",
      "Iteration 50, loss = 0.00394201\n",
      "Iteration 51, loss = 0.00452152\n",
      "Iteration 52, loss = 0.00346713\n",
      "Iteration 53, loss = 0.00321345\n",
      "Iteration 54, loss = 0.00334476\n",
      "Iteration 55, loss = 0.00305532\n",
      "Iteration 56, loss = 0.00266270\n",
      "Iteration 57, loss = 0.00264314\n",
      "Iteration 58, loss = 0.00267693\n",
      "Iteration 59, loss = 0.00303477\n",
      "Training loss did not improve more than tol=0.000100 for two consecutive epochs. Stopping.\n"
     ]
    },
    {
     "data": {
      "text/plain": [
       "MLPClassifier(activation='relu', alpha=0.0001, batch_size='auto', beta_1=0.9,\n",
       "       beta_2=0.999, early_stopping=False, epsilon=1e-08,\n",
       "       hidden_layer_sizes=(100, 100, 50, 30, 10), learning_rate='constant',\n",
       "       learning_rate_init=0.001, max_iter=1000, momentum=0.9,\n",
       "       nesterovs_momentum=True, power_t=0.5, random_state=None,\n",
       "       shuffle=True, solver='adam', tol=0.0001, validation_fraction=0.1,\n",
       "       verbose=True, warm_start=False)"
      ]
     },
     "execution_count": 131,
     "metadata": {},
     "output_type": "execute_result"
    }
   ],
   "source": [
    "mlp.fit(X_train,y_train)"
   ]
  },
  {
   "cell_type": "code",
   "execution_count": 132,
   "metadata": {
    "collapsed": true
   },
   "outputs": [],
   "source": [
    "predictions=mlp.predict(X_test)"
   ]
  },
  {
   "cell_type": "code",
   "execution_count": 133,
   "metadata": {},
   "outputs": [
    {
     "name": "stdout",
     "output_type": "stream",
     "text": [
      "Accuracy of neural network classifier on test set:\n",
      "0.880708294501\n"
     ]
    }
   ],
   "source": [
    "print('Accuracy of neural network classifier on test set:')\n",
    "print(mlp.score(X_test, y_test))"
   ]
  },
  {
   "cell_type": "code",
   "execution_count": 134,
   "metadata": {},
   "outputs": [
    {
     "data": {
      "text/plain": [
       "0.77295907342581793"
      ]
     },
     "execution_count": 134,
     "metadata": {},
     "output_type": "execute_result"
    }
   ],
   "source": [
    "from sklearn.metrics import roc_auc_score\n",
    "roc_auc_score(y_test,predictions)"
   ]
  },
  {
   "cell_type": "code",
   "execution_count": 135,
   "metadata": {
    "collapsed": true
   },
   "outputs": [],
   "source": [
    "dfTrain['annual_income']=dfTrain['AMOUNT']/dfTrain['RATIO'] # adding an extra column of annual_income"
   ]
  },
  {
   "cell_type": "code",
   "execution_count": 136,
   "metadata": {},
   "outputs": [
    {
     "data": {
      "text/html": [
       "<div>\n",
       "<style>\n",
       "    .dataframe thead tr:only-child th {\n",
       "        text-align: right;\n",
       "    }\n",
       "\n",
       "    .dataframe thead th {\n",
       "        text-align: left;\n",
       "    }\n",
       "\n",
       "    .dataframe tbody tr th {\n",
       "        vertical-align: top;\n",
       "    }\n",
       "</style>\n",
       "<table border=\"1\" class=\"dataframe\">\n",
       "  <thead>\n",
       "    <tr style=\"text-align: right;\">\n",
       "      <th></th>\n",
       "      <th>LOAN_ID</th>\n",
       "      <th>AMOUNT</th>\n",
       "      <th>DUE_MORTGAGE</th>\n",
       "      <th>VALUE</th>\n",
       "      <th>REASON</th>\n",
       "      <th>OCC</th>\n",
       "      <th>TJOB</th>\n",
       "      <th>DCL</th>\n",
       "      <th>CLT</th>\n",
       "      <th>CL_COUNT</th>\n",
       "      <th>RATIO</th>\n",
       "      <th>CONVICTED</th>\n",
       "      <th>VAR_1</th>\n",
       "      <th>VAR_2</th>\n",
       "      <th>VAR_3</th>\n",
       "      <th>DEFAULTER</th>\n",
       "      <th>log_amount</th>\n",
       "      <th>log_Due_Mortgage</th>\n",
       "      <th>log_value</th>\n",
       "      <th>annual_income</th>\n",
       "    </tr>\n",
       "  </thead>\n",
       "  <tbody>\n",
       "    <tr>\n",
       "      <th>count</th>\n",
       "      <td>3.576000e+03</td>\n",
       "      <td>3576.000000</td>\n",
       "      <td>3576.000000</td>\n",
       "      <td>3576.000000</td>\n",
       "      <td>3576.000000</td>\n",
       "      <td>3576.000000</td>\n",
       "      <td>3576.000000</td>\n",
       "      <td>3576.000000</td>\n",
       "      <td>3576.000000</td>\n",
       "      <td>3576.000000</td>\n",
       "      <td>3576.000000</td>\n",
       "      <td>3576.000000</td>\n",
       "      <td>3576.000000</td>\n",
       "      <td>3576.000000</td>\n",
       "      <td>3576.000000</td>\n",
       "      <td>3576.000000</td>\n",
       "      <td>3576.000000</td>\n",
       "      <td>3576.000000</td>\n",
       "      <td>3576.000000</td>\n",
       "      <td>3576.000000</td>\n",
       "    </tr>\n",
       "    <tr>\n",
       "      <th>mean</th>\n",
       "      <td>3.684436e+06</td>\n",
       "      <td>18593.596197</td>\n",
       "      <td>73301.179681</td>\n",
       "      <td>101478.979298</td>\n",
       "      <td>0.704139</td>\n",
       "      <td>1.586130</td>\n",
       "      <td>8.731530</td>\n",
       "      <td>0.388423</td>\n",
       "      <td>180.982066</td>\n",
       "      <td>21.118848</td>\n",
       "      <td>33.859044</td>\n",
       "      <td>0.171141</td>\n",
       "      <td>0.218400</td>\n",
       "      <td>1.095358</td>\n",
       "      <td>1.658922</td>\n",
       "      <td>0.197707</td>\n",
       "      <td>9.675788</td>\n",
       "      <td>11.037601</td>\n",
       "      <td>11.405230</td>\n",
       "      <td>605.109393</td>\n",
       "    </tr>\n",
       "    <tr>\n",
       "      <th>std</th>\n",
       "      <td>1.032447e+03</td>\n",
       "      <td>10901.127719</td>\n",
       "      <td>42744.663989</td>\n",
       "      <td>54929.106774</td>\n",
       "      <td>0.456493</td>\n",
       "      <td>1.742233</td>\n",
       "      <td>7.275966</td>\n",
       "      <td>1.062189</td>\n",
       "      <td>81.288647</td>\n",
       "      <td>9.966159</td>\n",
       "      <td>7.009511</td>\n",
       "      <td>0.376685</td>\n",
       "      <td>0.768329</td>\n",
       "      <td>1.719366</td>\n",
       "      <td>0.662931</td>\n",
       "      <td>0.398326</td>\n",
       "      <td>0.570761</td>\n",
       "      <td>0.615122</td>\n",
       "      <td>0.496601</td>\n",
       "      <td>821.210259</td>\n",
       "    </tr>\n",
       "    <tr>\n",
       "      <th>min</th>\n",
       "      <td>3.682648e+06</td>\n",
       "      <td>1200.000000</td>\n",
       "      <td>1962.000000</td>\n",
       "      <td>7980.000000</td>\n",
       "      <td>0.000000</td>\n",
       "      <td>0.000000</td>\n",
       "      <td>0.000000</td>\n",
       "      <td>0.000000</td>\n",
       "      <td>1.000000</td>\n",
       "      <td>0.000000</td>\n",
       "      <td>0.730295</td>\n",
       "      <td>0.000000</td>\n",
       "      <td>0.000000</td>\n",
       "      <td>0.000000</td>\n",
       "      <td>0.045274</td>\n",
       "      <td>0.000000</td>\n",
       "      <td>7.090077</td>\n",
       "      <td>7.581720</td>\n",
       "      <td>8.984694</td>\n",
       "      <td>34.637797</td>\n",
       "    </tr>\n",
       "    <tr>\n",
       "      <th>25%</th>\n",
       "      <td>3.683542e+06</td>\n",
       "      <td>11200.000000</td>\n",
       "      <td>48522.500000</td>\n",
       "      <td>66723.000000</td>\n",
       "      <td>0.000000</td>\n",
       "      <td>0.000000</td>\n",
       "      <td>3.000000</td>\n",
       "      <td>0.000000</td>\n",
       "      <td>119.431208</td>\n",
       "      <td>14.000000</td>\n",
       "      <td>30.773159</td>\n",
       "      <td>0.000000</td>\n",
       "      <td>0.000000</td>\n",
       "      <td>0.000000</td>\n",
       "      <td>1.184400</td>\n",
       "      <td>0.000000</td>\n",
       "      <td>9.323669</td>\n",
       "      <td>10.789783</td>\n",
       "      <td>11.108305</td>\n",
       "      <td>333.911294</td>\n",
       "    </tr>\n",
       "    <tr>\n",
       "      <th>50%</th>\n",
       "      <td>3.684436e+06</td>\n",
       "      <td>16400.000000</td>\n",
       "      <td>65849.500000</td>\n",
       "      <td>89569.000000</td>\n",
       "      <td>1.000000</td>\n",
       "      <td>1.000000</td>\n",
       "      <td>7.000000</td>\n",
       "      <td>0.000000</td>\n",
       "      <td>174.500000</td>\n",
       "      <td>20.000000</td>\n",
       "      <td>34.644236</td>\n",
       "      <td>0.000000</td>\n",
       "      <td>0.000000</td>\n",
       "      <td>0.000000</td>\n",
       "      <td>1.702700</td>\n",
       "      <td>0.000000</td>\n",
       "      <td>9.705037</td>\n",
       "      <td>11.095127</td>\n",
       "      <td>11.402765</td>\n",
       "      <td>493.588607</td>\n",
       "    </tr>\n",
       "    <tr>\n",
       "      <th>75%</th>\n",
       "      <td>3.685329e+06</td>\n",
       "      <td>23200.000000</td>\n",
       "      <td>88043.000000</td>\n",
       "      <td>119132.000000</td>\n",
       "      <td>1.000000</td>\n",
       "      <td>3.000000</td>\n",
       "      <td>12.000000</td>\n",
       "      <td>0.000000</td>\n",
       "      <td>228.722132</td>\n",
       "      <td>26.000000</td>\n",
       "      <td>37.944475</td>\n",
       "      <td>0.000000</td>\n",
       "      <td>0.000000</td>\n",
       "      <td>2.000000</td>\n",
       "      <td>2.188450</td>\n",
       "      <td>0.000000</td>\n",
       "      <td>10.051908</td>\n",
       "      <td>11.385581</td>\n",
       "      <td>11.687987</td>\n",
       "      <td>693.865496</td>\n",
       "    </tr>\n",
       "    <tr>\n",
       "      <th>max</th>\n",
       "      <td>3.686223e+06</td>\n",
       "      <td>89900.000000</td>\n",
       "      <td>399449.000000</td>\n",
       "      <td>849980.000000</td>\n",
       "      <td>1.000000</td>\n",
       "      <td>5.000000</td>\n",
       "      <td>41.000000</td>\n",
       "      <td>15.000000</td>\n",
       "      <td>640.058172</td>\n",
       "      <td>71.000000</td>\n",
       "      <td>143.959605</td>\n",
       "      <td>1.000000</td>\n",
       "      <td>10.000000</td>\n",
       "      <td>17.000000</td>\n",
       "      <td>2.779000</td>\n",
       "      <td>1.000000</td>\n",
       "      <td>11.406453</td>\n",
       "      <td>12.897841</td>\n",
       "      <td>13.652968</td>\n",
       "      <td>33014.292447</td>\n",
       "    </tr>\n",
       "  </tbody>\n",
       "</table>\n",
       "</div>"
      ],
      "text/plain": [
       "            LOAN_ID        AMOUNT   DUE_MORTGAGE          VALUE       REASON  \\\n",
       "count  3.576000e+03   3576.000000    3576.000000    3576.000000  3576.000000   \n",
       "mean   3.684436e+06  18593.596197   73301.179681  101478.979298     0.704139   \n",
       "std    1.032447e+03  10901.127719   42744.663989   54929.106774     0.456493   \n",
       "min    3.682648e+06   1200.000000    1962.000000    7980.000000     0.000000   \n",
       "25%    3.683542e+06  11200.000000   48522.500000   66723.000000     0.000000   \n",
       "50%    3.684436e+06  16400.000000   65849.500000   89569.000000     1.000000   \n",
       "75%    3.685329e+06  23200.000000   88043.000000  119132.000000     1.000000   \n",
       "max    3.686223e+06  89900.000000  399449.000000  849980.000000     1.000000   \n",
       "\n",
       "               OCC         TJOB          DCL          CLT     CL_COUNT  \\\n",
       "count  3576.000000  3576.000000  3576.000000  3576.000000  3576.000000   \n",
       "mean      1.586130     8.731530     0.388423   180.982066    21.118848   \n",
       "std       1.742233     7.275966     1.062189    81.288647     9.966159   \n",
       "min       0.000000     0.000000     0.000000     1.000000     0.000000   \n",
       "25%       0.000000     3.000000     0.000000   119.431208    14.000000   \n",
       "50%       1.000000     7.000000     0.000000   174.500000    20.000000   \n",
       "75%       3.000000    12.000000     0.000000   228.722132    26.000000   \n",
       "max       5.000000    41.000000    15.000000   640.058172    71.000000   \n",
       "\n",
       "             RATIO    CONVICTED        VAR_1        VAR_2        VAR_3  \\\n",
       "count  3576.000000  3576.000000  3576.000000  3576.000000  3576.000000   \n",
       "mean     33.859044     0.171141     0.218400     1.095358     1.658922   \n",
       "std       7.009511     0.376685     0.768329     1.719366     0.662931   \n",
       "min       0.730295     0.000000     0.000000     0.000000     0.045274   \n",
       "25%      30.773159     0.000000     0.000000     0.000000     1.184400   \n",
       "50%      34.644236     0.000000     0.000000     0.000000     1.702700   \n",
       "75%      37.944475     0.000000     0.000000     2.000000     2.188450   \n",
       "max     143.959605     1.000000    10.000000    17.000000     2.779000   \n",
       "\n",
       "         DEFAULTER   log_amount  log_Due_Mortgage    log_value  annual_income  \n",
       "count  3576.000000  3576.000000       3576.000000  3576.000000    3576.000000  \n",
       "mean      0.197707     9.675788         11.037601    11.405230     605.109393  \n",
       "std       0.398326     0.570761          0.615122     0.496601     821.210259  \n",
       "min       0.000000     7.090077          7.581720     8.984694      34.637797  \n",
       "25%       0.000000     9.323669         10.789783    11.108305     333.911294  \n",
       "50%       0.000000     9.705037         11.095127    11.402765     493.588607  \n",
       "75%       0.000000    10.051908         11.385581    11.687987     693.865496  \n",
       "max       1.000000    11.406453         12.897841    13.652968   33014.292447  "
      ]
     },
     "execution_count": 136,
     "metadata": {},
     "output_type": "execute_result"
    }
   ],
   "source": [
    "dfTrain.describe()"
   ]
  },
  {
   "cell_type": "code",
   "execution_count": 137,
   "metadata": {
    "collapsed": true
   },
   "outputs": [],
   "source": [
    "train_cols=['log_amount','log_Due_Mortgage','log_value','REASON','OCC','TJOB','DCL','CLT','CL_COUNT','RATIO','CONVICTED','annual_income','VAR_1','VAR_2','VAR_3']"
   ]
  },
  {
   "cell_type": "code",
   "execution_count": 138,
   "metadata": {
    "collapsed": true
   },
   "outputs": [],
   "source": [
    "finalTrain=dfTrain[train_cols];"
   ]
  },
  {
   "cell_type": "code",
   "execution_count": 139,
   "metadata": {
    "collapsed": true
   },
   "outputs": [],
   "source": [
    "X_train, X_test, y_train, y_test = train_test_split(np.array(finalTrain), np.array(train_target), test_size=0.30,random_state=59)"
   ]
  },
  {
   "cell_type": "code",
   "execution_count": 140,
   "metadata": {
    "collapsed": true
   },
   "outputs": [],
   "source": [
    "clf=LogisticRegression()  #logistic Rgression __ again"
   ]
  },
  {
   "cell_type": "code",
   "execution_count": 141,
   "metadata": {},
   "outputs": [
    {
     "name": "stderr",
     "output_type": "stream",
     "text": [
      "C:\\Users\\hp\\Anaconda3\\lib\\site-packages\\sklearn\\utils\\validation.py:578: DataConversionWarning: A column-vector y was passed when a 1d array was expected. Please change the shape of y to (n_samples, ), for example using ravel().\n",
      "  y = column_or_1d(y, warn=True)\n"
     ]
    },
    {
     "data": {
      "text/plain": [
       "LogisticRegression(C=1.0, class_weight=None, dual=False, fit_intercept=True,\n",
       "          intercept_scaling=1, max_iter=100, multi_class='ovr', n_jobs=1,\n",
       "          penalty='l2', random_state=None, solver='liblinear', tol=0.0001,\n",
       "          verbose=0, warm_start=False)"
      ]
     },
     "execution_count": 141,
     "metadata": {},
     "output_type": "execute_result"
    }
   ],
   "source": [
    "clf.fit(X_train,y_train)"
   ]
  },
  {
   "cell_type": "code",
   "execution_count": 142,
   "metadata": {},
   "outputs": [
    {
     "name": "stdout",
     "output_type": "stream",
     "text": [
      "Accuracy of logistic regression classifier on test set:\n",
      "0.838769804287\n"
     ]
    }
   ],
   "source": [
    "y_pred = clf.predict(X_test)\n",
    "print('Accuracy of logistic regression classifier on test set:')\n",
    "print(clf.score(X_test, y_test))"
   ]
  },
  {
   "cell_type": "code",
   "execution_count": 143,
   "metadata": {},
   "outputs": [
    {
     "data": {
      "text/plain": [
       "0.63762749038419997"
      ]
     },
     "execution_count": 143,
     "metadata": {},
     "output_type": "execute_result"
    }
   ],
   "source": [
    "from sklearn.metrics import roc_auc_score\n",
    "roc_auc_score(y_test,y_pred)"
   ]
  },
  {
   "cell_type": "code",
   "execution_count": 144,
   "metadata": {
    "collapsed": true
   },
   "outputs": [],
   "source": [
    "mlp_1= MLPClassifier(hidden_layer_sizes=(30,30,30),solver='adam')  # another neural network model with different number of hidden layers "
   ]
  },
  {
   "cell_type": "code",
   "execution_count": 145,
   "metadata": {},
   "outputs": [
    {
     "name": "stderr",
     "output_type": "stream",
     "text": [
      "C:\\Users\\hp\\Anaconda3\\lib\\site-packages\\sklearn\\neural_network\\multilayer_perceptron.py:912: DataConversionWarning: A column-vector y was passed when a 1d array was expected. Please change the shape of y to (n_samples, ), for example using ravel().\n",
      "  y = column_or_1d(y, warn=True)\n"
     ]
    },
    {
     "data": {
      "text/plain": [
       "MLPClassifier(activation='relu', alpha=0.0001, batch_size='auto', beta_1=0.9,\n",
       "       beta_2=0.999, early_stopping=False, epsilon=1e-08,\n",
       "       hidden_layer_sizes=(30, 30, 30), learning_rate='constant',\n",
       "       learning_rate_init=0.001, max_iter=200, momentum=0.9,\n",
       "       nesterovs_momentum=True, power_t=0.5, random_state=None,\n",
       "       shuffle=True, solver='adam', tol=0.0001, validation_fraction=0.1,\n",
       "       verbose=False, warm_start=False)"
      ]
     },
     "execution_count": 145,
     "metadata": {},
     "output_type": "execute_result"
    }
   ],
   "source": [
    "mlp_1.fit(X_train,y_train)"
   ]
  },
  {
   "cell_type": "code",
   "execution_count": 146,
   "metadata": {},
   "outputs": [
    {
     "name": "stdout",
     "output_type": "stream",
     "text": [
      "Accuracy of neural network classifier on test set:\n",
      "0.789375582479\n"
     ]
    }
   ],
   "source": [
    "y_pred_1 = mlp_1.predict(X_test)\n",
    "print('Accuracy of neural network classifier on test set:')\n",
    "print(mlp_1.score(X_test, y_test))"
   ]
  },
  {
   "cell_type": "code",
   "execution_count": 147,
   "metadata": {},
   "outputs": [
    {
     "data": {
      "text/plain": [
       "0.5738093694628118"
      ]
     },
     "execution_count": 147,
     "metadata": {},
     "output_type": "execute_result"
    }
   ],
   "source": [
    "from sklearn.metrics import roc_auc_score\n",
    "roc_auc_score(y_test,y_pred_1)"
   ]
  },
  {
   "cell_type": "code",
   "execution_count": 148,
   "metadata": {
    "collapsed": true
   },
   "outputs": [],
   "source": [
    "from sklearn import svm  # svm classifier"
   ]
  },
  {
   "cell_type": "code",
   "execution_count": 149,
   "metadata": {
    "collapsed": true
   },
   "outputs": [],
   "source": [
    "svm_clf = svm.SVC(kernel='linear')"
   ]
  },
  {
   "cell_type": "code",
   "execution_count": 150,
   "metadata": {},
   "outputs": [
    {
     "name": "stderr",
     "output_type": "stream",
     "text": [
      "C:\\Users\\hp\\Anaconda3\\lib\\site-packages\\sklearn\\utils\\validation.py:578: DataConversionWarning: A column-vector y was passed when a 1d array was expected. Please change the shape of y to (n_samples, ), for example using ravel().\n",
      "  y = column_or_1d(y, warn=True)\n"
     ]
    },
    {
     "data": {
      "text/plain": [
       "SVC(C=1.0, cache_size=200, class_weight=None, coef0=0.0,\n",
       "  decision_function_shape='ovr', degree=3, gamma='auto', kernel='linear',\n",
       "  max_iter=-1, probability=False, random_state=None, shrinking=True,\n",
       "  tol=0.001, verbose=False)"
      ]
     },
     "execution_count": 150,
     "metadata": {},
     "output_type": "execute_result"
    }
   ],
   "source": [
    "svm_clf.fit(X_train,y_train)"
   ]
  },
  {
   "cell_type": "code",
   "execution_count": 151,
   "metadata": {
    "collapsed": true
   },
   "outputs": [],
   "source": [
    "pred=svm_clf.predict(X_test)"
   ]
  },
  {
   "cell_type": "code",
   "execution_count": 152,
   "metadata": {},
   "outputs": [
    {
     "name": "stdout",
     "output_type": "stream",
     "text": [
      "Accuracy of svm classifier on test set:\n",
      "0.834109972041\n"
     ]
    }
   ],
   "source": [
    "print('Accuracy of svm classifier on test set:')\n",
    "print(svm_clf.score(X_test, y_test))"
   ]
  },
  {
   "cell_type": "code",
   "execution_count": 153,
   "metadata": {},
   "outputs": [
    {
     "data": {
      "text/plain": [
       "0.61912787933791436"
      ]
     },
     "execution_count": 153,
     "metadata": {},
     "output_type": "execute_result"
    }
   ],
   "source": [
    "from sklearn.metrics import roc_auc_score\n",
    "roc_auc_score(y_test,pred)"
   ]
  },
  {
   "cell_type": "code",
   "execution_count": 154,
   "metadata": {},
   "outputs": [
    {
     "data": {
      "text/html": [
       "<div>\n",
       "<style>\n",
       "    .dataframe thead tr:only-child th {\n",
       "        text-align: right;\n",
       "    }\n",
       "\n",
       "    .dataframe thead th {\n",
       "        text-align: left;\n",
       "    }\n",
       "\n",
       "    .dataframe tbody tr th {\n",
       "        vertical-align: top;\n",
       "    }\n",
       "</style>\n",
       "<table border=\"1\" class=\"dataframe\">\n",
       "  <thead>\n",
       "    <tr style=\"text-align: right;\">\n",
       "      <th></th>\n",
       "      <th>TEST_ID</th>\n",
       "      <th>LOAN_ID</th>\n",
       "      <th>AMOUNT</th>\n",
       "      <th>DUE_MORTGAGE</th>\n",
       "      <th>VALUE</th>\n",
       "      <th>REASON</th>\n",
       "      <th>OCC</th>\n",
       "      <th>TJOB</th>\n",
       "      <th>DCL</th>\n",
       "      <th>CLT</th>\n",
       "      <th>CL_COUNT</th>\n",
       "      <th>RATIO</th>\n",
       "      <th>CONVICTED</th>\n",
       "      <th>VAR_1</th>\n",
       "      <th>VAR_2</th>\n",
       "      <th>VAR_3</th>\n",
       "    </tr>\n",
       "  </thead>\n",
       "  <tbody>\n",
       "    <tr>\n",
       "      <th>0</th>\n",
       "      <td>25667</td>\n",
       "      <td>3686224</td>\n",
       "      <td>12300</td>\n",
       "      <td>67373.0</td>\n",
       "      <td>88453.0</td>\n",
       "      <td>1.0</td>\n",
       "      <td>0.0</td>\n",
       "      <td>2.0</td>\n",
       "      <td>0.0</td>\n",
       "      <td>235.775997</td>\n",
       "      <td>26.0</td>\n",
       "      <td>29.107299</td>\n",
       "      <td>0</td>\n",
       "      <td>0</td>\n",
       "      <td>3</td>\n",
       "      <td>2.1966</td>\n",
       "    </tr>\n",
       "    <tr>\n",
       "      <th>1</th>\n",
       "      <td>25668</td>\n",
       "      <td>3686225</td>\n",
       "      <td>45100</td>\n",
       "      <td>63955.5</td>\n",
       "      <td>76653.0</td>\n",
       "      <td>0.0</td>\n",
       "      <td>1.0</td>\n",
       "      <td>11.0</td>\n",
       "      <td>0.0</td>\n",
       "      <td>298.300000</td>\n",
       "      <td>13.0</td>\n",
       "      <td>35.068381</td>\n",
       "      <td>0</td>\n",
       "      <td>0</td>\n",
       "      <td>0</td>\n",
       "      <td>2.4432</td>\n",
       "    </tr>\n",
       "    <tr>\n",
       "      <th>2</th>\n",
       "      <td>25669</td>\n",
       "      <td>3686226</td>\n",
       "      <td>28400</td>\n",
       "      <td>129927.0</td>\n",
       "      <td>178898.0</td>\n",
       "      <td>1.0</td>\n",
       "      <td>3.0</td>\n",
       "      <td>2.0</td>\n",
       "      <td>0.0</td>\n",
       "      <td>114.942639</td>\n",
       "      <td>39.0</td>\n",
       "      <td>33.450162</td>\n",
       "      <td>0</td>\n",
       "      <td>0</td>\n",
       "      <td>0</td>\n",
       "      <td>1.0867</td>\n",
       "    </tr>\n",
       "    <tr>\n",
       "      <th>3</th>\n",
       "      <td>25670</td>\n",
       "      <td>3686227</td>\n",
       "      <td>8400</td>\n",
       "      <td>101049.0</td>\n",
       "      <td>115195.0</td>\n",
       "      <td>0.0</td>\n",
       "      <td>1.0</td>\n",
       "      <td>23.0</td>\n",
       "      <td>0.0</td>\n",
       "      <td>131.256329</td>\n",
       "      <td>12.0</td>\n",
       "      <td>36.515999</td>\n",
       "      <td>0</td>\n",
       "      <td>0</td>\n",
       "      <td>0</td>\n",
       "      <td>1.5343</td>\n",
       "    </tr>\n",
       "    <tr>\n",
       "      <th>4</th>\n",
       "      <td>25671</td>\n",
       "      <td>3686228</td>\n",
       "      <td>20000</td>\n",
       "      <td>16131.0</td>\n",
       "      <td>70572.0</td>\n",
       "      <td>1.0</td>\n",
       "      <td>1.0</td>\n",
       "      <td>7.0</td>\n",
       "      <td>0.0</td>\n",
       "      <td>243.365403</td>\n",
       "      <td>22.0</td>\n",
       "      <td>39.456251</td>\n",
       "      <td>0</td>\n",
       "      <td>0</td>\n",
       "      <td>0</td>\n",
       "      <td>2.3169</td>\n",
       "    </tr>\n",
       "  </tbody>\n",
       "</table>\n",
       "</div>"
      ],
      "text/plain": [
       "   TEST_ID  LOAN_ID  AMOUNT  DUE_MORTGAGE     VALUE  REASON  OCC  TJOB  DCL  \\\n",
       "0    25667  3686224   12300       67373.0   88453.0     1.0  0.0   2.0  0.0   \n",
       "1    25668  3686225   45100       63955.5   76653.0     0.0  1.0  11.0  0.0   \n",
       "2    25669  3686226   28400      129927.0  178898.0     1.0  3.0   2.0  0.0   \n",
       "3    25670  3686227    8400      101049.0  115195.0     0.0  1.0  23.0  0.0   \n",
       "4    25671  3686228   20000       16131.0   70572.0     1.0  1.0   7.0  0.0   \n",
       "\n",
       "          CLT  CL_COUNT      RATIO  CONVICTED  VAR_1  VAR_2   VAR_3  \n",
       "0  235.775997      26.0  29.107299          0      0      3  2.1966  \n",
       "1  298.300000      13.0  35.068381          0      0      0  2.4432  \n",
       "2  114.942639      39.0  33.450162          0      0      0  1.0867  \n",
       "3  131.256329      12.0  36.515999          0      0      0  1.5343  \n",
       "4  243.365403      22.0  39.456251          0      0      0  2.3169  "
      ]
     },
     "execution_count": 154,
     "metadata": {},
     "output_type": "execute_result"
    }
   ],
   "source": [
    "dfTest.head()"
   ]
  },
  {
   "cell_type": "code",
   "execution_count": 160,
   "metadata": {
    "collapsed": true
   },
   "outputs": [],
   "source": [
    "dfTest['log_amount'] = np.log(dfTest['AMOUNT'])  # preparing the test data\n",
    "dfTest['log_Due_Mortgage'] = np.log(dfTest['DUE_MORTGAGE'])\n",
    "dfTest['log_value'] = np.log(dfTest['VALUE'])"
   ]
  },
  {
   "cell_type": "code",
   "execution_count": 161,
   "metadata": {
    "collapsed": true
   },
   "outputs": [],
   "source": [
    "test_cols=['log_amount','log_Due_Mortgage','log_value','REASON','OCC','TJOB','DCL','CLT','CL_COUNT','RATIO','CONVICTED','VAR_1','VAR_2','VAR_3']"
   ]
  },
  {
   "cell_type": "code",
   "execution_count": 162,
   "metadata": {
    "collapsed": true
   },
   "outputs": [],
   "source": [
    "final_test=dfTest[test_cols]"
   ]
  },
  {
   "cell_type": "code",
   "execution_count": 164,
   "metadata": {
    "collapsed": true
   },
   "outputs": [],
   "source": [
    "predictions=mlp.predict(final_test) # using the neural network classifier for predictions"
   ]
  },
  {
   "cell_type": "code",
   "execution_count": 168,
   "metadata": {},
   "outputs": [
    {
     "name": "stdout",
     "output_type": "stream",
     "text": [
      "[0 0 0 ..., 0 0 1]\n",
      "Frequency of unique values of the said array:\n",
      "[[   0    1]\n",
      " [2210  174]]\n"
     ]
    }
   ],
   "source": [
    "import numpy as np\n",
    "a = predictions\n",
    "print(a)\n",
    "unique_elements, counts_elements = np.unique(a, return_counts=True)\n",
    "print(\"Frequency of unique values of the said array:\")\n",
    "print(np.asarray((unique_elements, counts_elements)))"
   ]
  },
  {
   "cell_type": "code",
   "execution_count": 174,
   "metadata": {
    "collapsed": true
   },
   "outputs": [],
   "source": [
    "dfTest_2=dfTest.drop(['TEST_ID','VALUE','DUE_MORTGAGE','AMOUNT','log_amount','log_Due_Mortgage','log_value','REASON','OCC','TJOB','DCL','CLT','CL_COUNT','RATIO','CONVICTED','VAR_1','VAR_2','VAR_3'],axis=1)"
   ]
  },
  {
   "cell_type": "code",
   "execution_count": 175,
   "metadata": {},
   "outputs": [
    {
     "data": {
      "text/html": [
       "<div>\n",
       "<style>\n",
       "    .dataframe thead tr:only-child th {\n",
       "        text-align: right;\n",
       "    }\n",
       "\n",
       "    .dataframe thead th {\n",
       "        text-align: left;\n",
       "    }\n",
       "\n",
       "    .dataframe tbody tr th {\n",
       "        vertical-align: top;\n",
       "    }\n",
       "</style>\n",
       "<table border=\"1\" class=\"dataframe\">\n",
       "  <thead>\n",
       "    <tr style=\"text-align: right;\">\n",
       "      <th></th>\n",
       "      <th>LOAN_ID</th>\n",
       "    </tr>\n",
       "  </thead>\n",
       "  <tbody>\n",
       "    <tr>\n",
       "      <th>0</th>\n",
       "      <td>3686224</td>\n",
       "    </tr>\n",
       "    <tr>\n",
       "      <th>1</th>\n",
       "      <td>3686225</td>\n",
       "    </tr>\n",
       "    <tr>\n",
       "      <th>2</th>\n",
       "      <td>3686226</td>\n",
       "    </tr>\n",
       "    <tr>\n",
       "      <th>3</th>\n",
       "      <td>3686227</td>\n",
       "    </tr>\n",
       "    <tr>\n",
       "      <th>4</th>\n",
       "      <td>3686228</td>\n",
       "    </tr>\n",
       "  </tbody>\n",
       "</table>\n",
       "</div>"
      ],
      "text/plain": [
       "   LOAN_ID\n",
       "0  3686224\n",
       "1  3686225\n",
       "2  3686226\n",
       "3  3686227\n",
       "4  3686228"
      ]
     },
     "execution_count": 175,
     "metadata": {},
     "output_type": "execute_result"
    }
   ],
   "source": [
    "dfTest_2.head()"
   ]
  },
  {
   "cell_type": "code",
   "execution_count": 176,
   "metadata": {
    "collapsed": true
   },
   "outputs": [],
   "source": [
    "dfTest_2['DEFAULTER']=predictions"
   ]
  },
  {
   "cell_type": "code",
   "execution_count": 178,
   "metadata": {},
   "outputs": [
    {
     "data": {
      "text/html": [
       "<div>\n",
       "<style>\n",
       "    .dataframe thead tr:only-child th {\n",
       "        text-align: right;\n",
       "    }\n",
       "\n",
       "    .dataframe thead th {\n",
       "        text-align: left;\n",
       "    }\n",
       "\n",
       "    .dataframe tbody tr th {\n",
       "        vertical-align: top;\n",
       "    }\n",
       "</style>\n",
       "<table border=\"1\" class=\"dataframe\">\n",
       "  <thead>\n",
       "    <tr style=\"text-align: right;\">\n",
       "      <th></th>\n",
       "      <th>LOAN_ID</th>\n",
       "      <th>DEFAULTER</th>\n",
       "    </tr>\n",
       "  </thead>\n",
       "  <tbody>\n",
       "    <tr>\n",
       "      <th>count</th>\n",
       "      <td>2.384000e+03</td>\n",
       "      <td>2384.000000</td>\n",
       "    </tr>\n",
       "    <tr>\n",
       "      <th>mean</th>\n",
       "      <td>3.687416e+06</td>\n",
       "      <td>0.072987</td>\n",
       "    </tr>\n",
       "    <tr>\n",
       "      <th>std</th>\n",
       "      <td>6.883458e+02</td>\n",
       "      <td>0.260169</td>\n",
       "    </tr>\n",
       "    <tr>\n",
       "      <th>min</th>\n",
       "      <td>3.686224e+06</td>\n",
       "      <td>0.000000</td>\n",
       "    </tr>\n",
       "    <tr>\n",
       "      <th>25%</th>\n",
       "      <td>3.686820e+06</td>\n",
       "      <td>0.000000</td>\n",
       "    </tr>\n",
       "    <tr>\n",
       "      <th>50%</th>\n",
       "      <td>3.687416e+06</td>\n",
       "      <td>0.000000</td>\n",
       "    </tr>\n",
       "    <tr>\n",
       "      <th>75%</th>\n",
       "      <td>3.688011e+06</td>\n",
       "      <td>0.000000</td>\n",
       "    </tr>\n",
       "    <tr>\n",
       "      <th>max</th>\n",
       "      <td>3.688607e+06</td>\n",
       "      <td>1.000000</td>\n",
       "    </tr>\n",
       "  </tbody>\n",
       "</table>\n",
       "</div>"
      ],
      "text/plain": [
       "            LOAN_ID    DEFAULTER\n",
       "count  2.384000e+03  2384.000000\n",
       "mean   3.687416e+06     0.072987\n",
       "std    6.883458e+02     0.260169\n",
       "min    3.686224e+06     0.000000\n",
       "25%    3.686820e+06     0.000000\n",
       "50%    3.687416e+06     0.000000\n",
       "75%    3.688011e+06     0.000000\n",
       "max    3.688607e+06     1.000000"
      ]
     },
     "execution_count": 178,
     "metadata": {},
     "output_type": "execute_result"
    }
   ],
   "source": [
    "dfTest_2.describe()"
   ]
  },
  {
   "cell_type": "code",
   "execution_count": 179,
   "metadata": {
    "collapsed": true
   },
   "outputs": [],
   "source": [
    "writer=pd.ExcelWriter('predictions.xlsx',engine='xlsxwriter')"
   ]
  },
  {
   "cell_type": "code",
   "execution_count": 180,
   "metadata": {
    "collapsed": true
   },
   "outputs": [],
   "source": [
    "dfTest_2.to_excel(writer,'Sheet1')"
   ]
  },
  {
   "cell_type": "code",
   "execution_count": 181,
   "metadata": {
    "collapsed": true
   },
   "outputs": [],
   "source": [
    "writer.save()"
   ]
  }
 ],
 "metadata": {
  "kernelspec": {
   "display_name": "Python 2",
   "language": "python",
   "name": "python2"
  },
  "language_info": {
   "codemirror_mode": {
    "name": "ipython",
    "version": 2
   },
   "file_extension": ".py",
   "mimetype": "text/x-python",
   "name": "python",
   "nbconvert_exporter": "python",
   "pygments_lexer": "ipython2",
   "version": "2.7.13"
  }
 },
 "nbformat": 4,
 "nbformat_minor": 2
}
